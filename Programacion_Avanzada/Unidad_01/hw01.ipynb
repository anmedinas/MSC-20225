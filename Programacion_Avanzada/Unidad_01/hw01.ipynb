{
 "cells": [
  {
   "cell_type": "markdown",
   "metadata": {},
   "source": [
    "## **Programación Avanzada** 🚀\n",
    "### **HW01 : Introducción**\n",
    "**Andrés C. Medina Sanhueza**\n",
    "\n",
    "Senior Data Scientist Engineer \n",
    "\n",
    "anmedinas@gmail.com"
   ]
  },
  {
   "cell_type": "markdown",
   "metadata": {},
   "source": [
    "# Fórmulas de **área** y **perímetro** de una circunferencia"
   ]
  },
  {
   "cell_type": "markdown",
   "metadata": {},
   "source": [
    "<img src = \"https://www.neurochispas.com/wp-content/uploads/2022/07/Formulas-del-perimetro-y-del-area-de-un-circulo.png\" alt = \"Formula de Area y Perimetro de una Circunferencia\" width = \"400\">"
   ]
  },
  {
   "cell_type": "markdown",
   "metadata": {},
   "source": [
    "\n",
    "$\n",
    "\\begin{equation}\n",
    "    \\begin{aligned}\n",
    "        \\text{Área} & = \\pi r^2 \\\\\n",
    "        \\text{Perímetro} & = 2\\pi \\cdot r\n",
    "    \\end{aligned}\n",
    "\\end{equation}\n",
    "$"
   ]
  },
  {
   "cell_type": "code",
   "execution_count": 1,
   "metadata": {},
   "outputs": [
    {
     "data": {
      "image/jpeg": "[encoded data removed]",
      "text/html": [
       "\n",
       "        <iframe\n",
       "            width=\"800\"\n",
       "            height=\"450\"\n",
       "            src=\"https://www.youtube.com/embed/P_LZsyiiUjw\"\n",
       "            frameborder=\"0\"\n",
       "            allowfullscreen\n",
       "            \n",
       "        ></iframe>\n",
       "        "
      ],
      "text/plain": [
       "<IPython.lib.display.YouTubeVideo at 0x1037095b0>"
      ]
     },
     "execution_count": 1,
     "metadata": {},
     "output_type": "execute_result"
    }
   ],
   "source": [
    "# Aqui va video \n",
    "from IPython.display import YouTubeVideo\n",
    "YouTubeVideo('P_LZsyiiUjw', width = 800, height = 450)"
   ]
  },
  {
   "cell_type": "code",
   "execution_count": 2,
   "metadata": {},
   "outputs": [],
   "source": [
    "def solicita_radios():\n",
    "    \"\"\"\"\n",
    "    Solicita al usuario una lista de valores de radio, asegurándose de que sean números reales positivos.\n",
    "\n",
    "    La función interactúa con el usuario a través de la consola, solicitando la entrada de valores de radio.\n",
    "    El usuario puede ingresar tantos valores como desee y debe escribir 'fin' para terminar la entrada.\n",
    "    Si el usuario ingresa un valor no válido (no numérico o no positivo), se le pedirá que intente de nuevo.\n",
    "\n",
    "    Returns:\n",
    "        list of float: Una lista de valores de radio válidos ingresados por el usuario.\n",
    "\n",
    "    Raises:\n",
    "        ValueError: Si el valor ingresado no es un número real positivo.\n",
    "    \"\"\"\"\"\n",
    "    radios = []\n",
    "    print(\"Ingrese una lista de valores de radio (números reales positivos). Escriba 'fin' para terminar.\")\n",
    "\n",
    "    while True:\n",
    "        try:\n",
    "            entrada = input(\"Ingrese un radio: \").strip()\n",
    "            if entrada.lower() == \"fin\":\n",
    "                break\n",
    "\n",
    "            r = float(entrada)\n",
    "            if r <= 0:\n",
    "                raise ValueError(\"El radio debe ser un número real positivo.\")\n",
    "\n",
    "            radios.append(r)\n",
    "\n",
    "        except ValueError as e:\n",
    "            print(f\"Error: {e}. Intente de nuevo.\")\n",
    "\n",
    "    return radios"
   ]
  },
  {
   "cell_type": "code",
   "execution_count": 3,
   "metadata": {},
   "outputs": [
    {
     "name": "stdout",
     "output_type": "stream",
     "text": [
      "Ingrese una lista de valores de radio (números reales positivos). Escriba 'fin' para terminar.\n",
      "Lista de radios ingresados: [1.0, 3.0, 5.0, 7.0, 9.0]\n"
     ]
    }
   ],
   "source": [
    "# Llamar a la función\n",
    "lista_radios = solicita_radios()\n",
    "print(f\"Lista de radios ingresados: {lista_radios}\")"
   ]
  },
  {
   "cell_type": "code",
   "execution_count": 4,
   "metadata": {},
   "outputs": [],
   "source": [
    "from math import pi \n",
    "\n",
    "def calcular_circunferencia():\n",
    "    \"\"\"\n",
    "    Calcula y muestra el área y el perímetro de una lista de circunferencias dado sus radios.\n",
    "\n",
    "    La función utiliza la lista de radios generada por la función `solicita_radios`. Para cada radio en la lista,\n",
    "    se calcula el área y el perímetro de la circunferencia utilizando las fórmulas:\n",
    "    - Área = π * r^2\n",
    "    - Perímetro = 2 * π * r\n",
    "\n",
    "    Los resultados se muestran en la consola con dos decimales de precisión.\n",
    "\n",
    "    Raises:\n",
    "        ValueError: Si el valor ingresado no es un número real positivo.\n",
    "    \"\"\"\n",
    "    radios = solicita_radios()\n",
    "    for r in radios:\n",
    "        try:\n",
    "            if r <= 0:\n",
    "                raise ValueError(\"El radio debe ser un número real positivo.\")\n",
    "\n",
    "            area = pi * r**2\n",
    "            perimetro = 2 * pi * r\n",
    "\n",
    "            print(f\"Radio: {r:.2f} - Área: {area:.2f}, Perímetro: {perimetro:.2f}\")\n",
    "\n",
    "        except ValueError as e:\n",
    "            print(f\"Error: {e}\")"
   ]
  },
  {
   "cell_type": "code",
   "execution_count": 6,
   "metadata": {},
   "outputs": [
    {
     "name": "stdout",
     "output_type": "stream",
     "text": [
      "Ingrese una lista de valores de radio (números reales positivos). Escriba 'fin' para terminar.\n",
      "Radio: 1.00 - Área: 3.14, Perímetro: 6.28\n",
      "Radio: 3.00 - Área: 28.27, Perímetro: 18.85\n",
      "Radio: 5.00 - Área: 78.54, Perímetro: 31.42\n",
      "Radio: 7.00 - Área: 153.94, Perímetro: 43.98\n"
     ]
    }
   ],
   "source": [
    "# Llamar a la función\n",
    "calcular_circunferencia()"
   ]
  }
 ],
 "metadata": {
  "kernelspec": {
   "display_name": "Python 3",
   "language": "python",
   "name": "python3"
  },
  "language_info": {
   "codemirror_mode": {
    "name": "ipython",
    "version": 3
   },
   "file_extension": ".py",
   "mimetype": "text/x-python",
   "name": "python",
   "nbconvert_exporter": "python",
   "pygments_lexer": "ipython3",
   "version": "3.9.21"
  }
 },
 "nbformat": 4,
 "nbformat_minor": 2
}
